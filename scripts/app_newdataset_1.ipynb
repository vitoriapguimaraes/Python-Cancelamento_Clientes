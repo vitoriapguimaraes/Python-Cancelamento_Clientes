{
 "cells": [
  {
   "cell_type": "markdown",
   "id": "965c3948-749a-4846-9023-9fc43629e1ff",
   "metadata": {},
   "source": [
    "# Customer Churn Analysis and Reduction for Subscription Service"
   ]
  },
  {
   "cell_type": "code",
   "execution_count": 2,
   "id": "48d045e1-3424-4fc6-a03d-3a506234924a",
   "metadata": {},
   "outputs": [],
   "source": [
    "import pandas as pd\n",
    "import plotly.express as px\n",
    "#import sys\n",
    "#!{sys.executable} -m pip install plotly kaleido\n",
    "#!{sys.executable} -m pip install --upgrade nbformat"
   ]
  },
  {
   "cell_type": "markdown",
   "id": "ee2987db",
   "metadata": {},
   "source": [
    "### Load dataset and perform initial cleaning"
   ]
  },
  {
   "cell_type": "code",
   "execution_count": 7,
   "id": "07b73508-484a-4ba1-899d-541013923754",
   "metadata": {},
   "outputs": [
    {
     "name": "stdout",
     "output_type": "stream",
     "text": [
      "<class 'pandas.core.frame.DataFrame'>\n",
      "RangeIndex: 10127 entries, 0 to 10126\n",
      "Data columns (total 20 columns):\n",
      " #   Column                         Non-Null Count  Dtype  \n",
      "---  ------                         --------------  -----  \n",
      " 0   Categoria                      10127 non-null  object \n",
      " 1   Idade                          10127 non-null  int64  \n",
      " 2   Sexo                           10127 non-null  object \n",
      " 3   Dependentes                    10127 non-null  int64  \n",
      " 4   Educação                       10127 non-null  object \n",
      " 5   Estado Civil                   10127 non-null  object \n",
      " 6   Faixa Salarial Anual           10127 non-null  object \n",
      " 7   Categoria Cartão               10126 non-null  object \n",
      " 8   Meses como Cliente             10127 non-null  int64  \n",
      " 9   Produtos Contratados           10127 non-null  int64  \n",
      " 10  Inatividade 12m                10127 non-null  int64  \n",
      " 11  Contatos 12m                   10127 non-null  int64  \n",
      " 12  Limite                         10127 non-null  float64\n",
      " 13  Limite Consumido               10127 non-null  int64  \n",
      " 14  Limite Disponível              10127 non-null  float64\n",
      " 15  Mudanças Transacoes_Q4_Q1      10127 non-null  float64\n",
      " 16  Valor Transacoes 12m           10127 non-null  int64  \n",
      " 17  Qtde Transacoes 12m            10127 non-null  int64  \n",
      " 18  Mudança Qtde Transações_Q4_Q1  10127 non-null  float64\n",
      " 19  Taxa de Utilização Cartão      10127 non-null  float64\n",
      "dtypes: float64(5), int64(9), object(6)\n",
      "memory usage: 1.5+ MB\n"
     ]
    }
   ],
   "source": [
    "DATASET_PATH = \"../dataset/clientes.csv\"\n",
    "\n",
    "df = pd.read_csv(DATASET_PATH, encoding=\"latin1\")\n",
    "df = df.drop(\"CLIENTNUM\", axis=1)\n",
    "\n",
    "df.info()"
   ]
  },
  {
   "cell_type": "code",
   "execution_count": 8,
   "id": "b474836e",
   "metadata": {},
   "outputs": [
    {
     "name": "stdout",
     "output_type": "stream",
     "text": [
      "<class 'pandas.core.frame.DataFrame'>\n",
      "Index: 10126 entries, 0 to 10126\n",
      "Data columns (total 20 columns):\n",
      " #   Column                         Non-Null Count  Dtype  \n",
      "---  ------                         --------------  -----  \n",
      " 0   Categoria                      10126 non-null  object \n",
      " 1   Idade                          10126 non-null  int64  \n",
      " 2   Sexo                           10126 non-null  object \n",
      " 3   Dependentes                    10126 non-null  int64  \n",
      " 4   Educação                       10126 non-null  object \n",
      " 5   Estado Civil                   10126 non-null  object \n",
      " 6   Faixa Salarial Anual           10126 non-null  object \n",
      " 7   Categoria Cartão               10126 non-null  object \n",
      " 8   Meses como Cliente             10126 non-null  int64  \n",
      " 9   Produtos Contratados           10126 non-null  int64  \n",
      " 10  Inatividade 12m                10126 non-null  int64  \n",
      " 11  Contatos 12m                   10126 non-null  int64  \n",
      " 12  Limite                         10126 non-null  float64\n",
      " 13  Limite Consumido               10126 non-null  int64  \n",
      " 14  Limite Disponível              10126 non-null  float64\n",
      " 15  Mudanças Transacoes_Q4_Q1      10126 non-null  float64\n",
      " 16  Valor Transacoes 12m           10126 non-null  int64  \n",
      " 17  Qtde Transacoes 12m            10126 non-null  int64  \n",
      " 18  Mudança Qtde Transações_Q4_Q1  10126 non-null  float64\n",
      " 19  Taxa de Utilização Cartão      10126 non-null  float64\n",
      "dtypes: float64(5), int64(9), object(6)\n",
      "memory usage: 1.6+ MB\n"
     ]
    }
   ],
   "source": [
    "df = df.dropna()\n",
    "df.info()"
   ]
  },
  {
   "cell_type": "code",
   "execution_count": 27,
   "id": "a79eec8d",
   "metadata": {},
   "outputs": [],
   "source": [
    "df = df.rename(columns={\n",
    "    'Categoria': 'categoria',\n",
    "    'Idade': 'idade',\n",
    "    'Sexo': 'sexo',\n",
    "    'Dependentes': 'dependentes',\n",
    "    'Educação': 'nivel_escolaridade',\n",
    "    'Estado Civil': 'estado_civil',\n",
    "    'Faixa Salarial Anual': 'faixa_salario_anual',\n",
    "    'Categoria Cartão': 'categoria_cartao',\n",
    "    'Meses como Cliente': 'periodo_cliente_meses',\n",
    "    'Produtos Contratados': 'produtos_contratados',\n",
    "    'Inatividade 12m': 'inatividade_ano',\n",
    "    'Limite': 'limite',\n",
    "    'Limite Consumido': 'limite_consumido',\n",
    "    'Limite Disponível': 'limite_disponivel',\n",
    "    'Mudanças Transacoes_Q4_Q1': 'mudancas_transacoes_q4_q1',\n",
    "    'Valor Transacoes 12m': 'valor_transacoes_ano',\n",
    "    'Qtde Transacoes 12m': 'qtde_transacoes_ano', \n",
    "    'Mudança Qtde Transações_Q4_Q1': 'mudanca_qtde_transacoes_q4_q1',\n",
    "    'Taxa de Utilização Cartão': 'taxa_cartao'\n",
    "    })"
   ]
  },
  {
   "cell_type": "code",
   "execution_count": 28,
   "id": "db433c2c",
   "metadata": {},
   "outputs": [
    {
     "data": {
      "text/plain": [
       "Index(['categoria', 'idade', 'sexo', 'dependentes', 'nivel_escolaridade',\n",
       "       'estado_civil', 'faixa_salario_anual', 'categoria_cartao',\n",
       "       'periodo_cliente_meses', 'produtos_contratados', 'inatividade_ano',\n",
       "       'Contatos 12m', 'limite', 'limite_consumido', 'limite_disponivel',\n",
       "       'mudancas_transacoes_q4_q1', 'valor_transacoes_ano',\n",
       "       'qtde_transacoes_ano', 'mudanca_qtde_transacoes_q4_q1', 'taxa_cartao'],\n",
       "      dtype='object')"
      ]
     },
     "execution_count": 28,
     "metadata": {},
     "output_type": "execute_result"
    }
   ],
   "source": [
    "df.columns"
   ]
  },
  {
   "cell_type": "markdown",
   "id": "9e21cdbc",
   "metadata": {},
   "source": [
    "### Print churn distribution"
   ]
  },
  {
   "cell_type": "code",
   "execution_count": 30,
   "id": "c271f17f",
   "metadata": {},
   "outputs": [
    {
     "name": "stdout",
     "output_type": "stream",
     "text": [
      "\n",
      "Churn distribution:\n",
      "categoria\n",
      "Cliente      8499\n",
      "Cancelado    1627\n",
      "Name: count, dtype: int64\n",
      "categoria\n",
      "Cliente      83.9%\n",
      "Cancelado    16.1%\n",
      "Name: proportion, dtype: object\n"
     ]
    }
   ],
   "source": [
    "print(\"\\nChurn distribution:\")\n",
    "print(df[\"categoria\"].value_counts())\n",
    "print(df[\"categoria\"].value_counts(normalize=True).map(\"{:.1%}\".format))"
   ]
  },
  {
   "cell_type": "markdown",
   "id": "acbbae97",
   "metadata": {},
   "source": [
    "### Analyze contract type and filter out monthly contracts"
   ]
  },
  {
   "cell_type": "code",
   "execution_count": 5,
   "id": "c3b47247",
   "metadata": {},
   "outputs": [
    {
     "name": "stdout",
     "output_type": "stream",
     "text": [
      "\n",
      "Average values by contract duration:\n",
      "                      idade  tempo_como_cliente  frequencia_uso  \\\n",
      "duracao_contrato                                                  \n",
      "Annual            41.655233           30.556892       15.469386   \n",
      "Monthly           41.584300           30.514080       15.520942   \n",
      "Quarterly         41.671907           30.421727       15.501413   \n",
      "\n",
      "                  ligacoes_callcenter  dias_atraso  total_gasto  \\\n",
      "duracao_contrato                                                  \n",
      "Annual                       5.132990    15.178851   542.665759   \n",
      "Monthly                      4.991530    15.051875   550.831097   \n",
      "Quarterly                    5.128374    15.166353   542.306705   \n",
      "\n",
      "                  meses_ultima_interacao  cancelou  \n",
      "duracao_contrato                                    \n",
      "Annual                         15.595168  0.972408  \n",
      "Monthly                        15.509311  1.000000  \n",
      "Quarterly                      15.555189  0.972379  \n"
     ]
    }
   ],
   "source": [
    "print(\"\\nAverage values by contract duration:\")\n",
    "print(df.groupby(\"duracao_contrato\").mean(numeric_only=True))"
   ]
  },
  {
   "cell_type": "markdown",
   "id": "189ac2d6",
   "metadata": {},
   "source": [
    "Com as informações agrupadas, é possível notar que os clientes do plano Mensal, possuem uma média de cancelamento igual a 1, ou seja, praticamente todos os clientes que utilizam esse plano fizeram o cancelamento do serviço.\n",
    "\n",
    "Esse já é um ponto importante dentro da nossa análise, pois existe um plano dessa empresa, onde praticamente todos os clientes fazem o cancelamento do serviço."
   ]
  },
  {
   "cell_type": "code",
   "execution_count": 6,
   "id": "e4cbc425",
   "metadata": {},
   "outputs": [
    {
     "name": "stdout",
     "output_type": "stream",
     "text": [
      "\n",
      "Removing monthly contracts for further analysis...\n",
      "Churn distribution after removing monthly contracts:\n",
      "cancelou\n",
      "1.0    97.2%\n",
      "0.0     2.8%\n",
      "Name: proportion, dtype: object\n"
     ]
    }
   ],
   "source": [
    "print(\"\\nRemoving monthly contracts for further analysis...\")\n",
    "df = df[df[\"duracao_contrato\"] != \"Monthly\"]\n",
    "print(\"Churn distribution after removing monthly contracts:\")\n",
    "print(df[\"cancelou\"].value_counts(normalize=True).map(\"{:.1%}\".format))"
   ]
  },
  {
   "cell_type": "markdown",
   "id": "d995cd7c",
   "metadata": {},
   "source": [
    "Porcentagem de cancelamento diminuiu de 56.7% para 46.1%.\n",
    "Ainda está um valor muito alto, portanto vamos continuar avaliando até um valor aceitável."
   ]
  },
  {
   "cell_type": "code",
   "execution_count": null,
   "id": "258cb32f",
   "metadata": {},
   "outputs": [],
   "source": [
    "print(\"\\nSubscription type distribution:\")\n",
    "print(df[\"assinatura\"].value_counts(normalize=True).map(\"{:.1%}\".format))"
   ]
  },
  {
   "cell_type": "code",
   "execution_count": null,
   "id": "cfefa16f",
   "metadata": {},
   "outputs": [],
   "source": [
    "print(\"\\nAverage values by subscription type:\")\n",
    "print(df.groupby(\"assinatura\").mean(numeric_only=True))"
   ]
  },
  {
   "cell_type": "markdown",
   "id": "4779e141",
   "metadata": {},
   "source": [
    "Verifica-se que há praticamente a mesma quantidade em cada uma das assinaturas, ou seja, é praticamente 1/3 em cada assinatura."
   ]
  },
  {
   "cell_type": "markdown",
   "id": "6ba0f750",
   "metadata": {},
   "source": [
    "### Plota histogramas para cada feature por cancelamento"
   ]
  },
  {
   "cell_type": "code",
   "execution_count": null,
   "id": "5d739efc",
   "metadata": {},
   "outputs": [],
   "source": [
    "for column in df.columns:\n",
    "    fig = px.histogram(df, x=column, color='cancelou', width=600)\n",
    "    fig.show()"
   ]
  },
  {
   "cell_type": "markdown",
   "id": "3521efa8",
   "metadata": {},
   "source": [
    "Os histogramas que chamam a atenção são:\n",
    "\n",
    "- Dias de atraso: é possível notar que clientes com mais de 20 dias de atraso cancelam suas assinaturas.\n",
    "\n",
    "- Ligações ao Call Center: é possível notar que clientes com mais de 5 ligações ao call center cancelam suas assinaturas.\n",
    "\n",
    "- Idade: é possível notar que clientes com idade superior a 50 anos cancelaram suas assinaturas.\n",
    "\n",
    "- Total gasto: é possível notar que clientes que gastam menos que R$ 500 cancelaram suas assinaturas."
   ]
  },
  {
   "cell_type": "markdown",
   "id": "8a8ad0e0",
   "metadata": {},
   "source": [
    "### Apply filters based on main churn factors and print churn rates"
   ]
  },
  {
   "cell_type": "code",
   "execution_count": null,
   "id": "1d0d932a",
   "metadata": {},
   "outputs": [],
   "source": [
    "print(\"\\nFiltering customers with up to 5 call center calls...\")\n",
    "df = df[df[\"ligacoes_callcenter\"] < 5]\n",
    "display(df[\"cancelou\"].value_counts(normalize=True).map(\"{:.1%}\".format))"
   ]
  },
  {
   "cell_type": "code",
   "execution_count": null,
   "id": "69e117fc",
   "metadata": {},
   "outputs": [],
   "source": [
    "print(\"\\nFiltering customers with 10 or fewer overdue days...\")\n",
    "df = df[df[\"dias_atraso\"] <= 10]\n",
    "display(df[\"cancelou\"].value_counts(normalize=True).map(\"{:.1%}\".format))"
   ]
  },
  {
   "cell_type": "code",
   "execution_count": null,
   "id": "632280a6",
   "metadata": {},
   "outputs": [],
   "source": [
    "print(\"\\nFiltering customers aged 50 or less...\")\n",
    "df = df[df[\"idade\"] <= 50]\n",
    "display(df[\"cancelou\"].value_counts(normalize=True).map(\"{:.1%}\".format))"
   ]
  },
  {
   "cell_type": "code",
   "execution_count": null,
   "id": "cb131d9e",
   "metadata": {},
   "outputs": [],
   "source": [
    "print(\"\\nFiltering customers who spent at least R$500...\")\n",
    "df = df[df[\"total_gasto\"] >= 500]\n",
    "display(df[\"cancelou\"].value_counts(normalize=True).map(\"{:.1%}\".format))"
   ]
  },
  {
   "cell_type": "markdown",
   "id": "33a60ae0",
   "metadata": {},
   "source": [
    "Porcentagem de cancelamento: 56.7% -> 46.1% -> 26.4% -> 18.4% -> 12.1% -> 4.8%"
   ]
  },
  {
   "cell_type": "markdown",
   "id": "f9b6a99e",
   "metadata": {},
   "source": [
    "### Conclusão\n",
    "\n",
    "A análise de dados revelou alguns fatores importantes que influenciam o cancelamento de clientes:\n",
    "\n",
    "- Tipo de contrato: A maioria dos cancelamentos ocorre entre clientes com contrato mensal, indicando que essa modalidade está fortemente associada à inatividade.\n",
    "- Dias de atraso: Clientes que acumularam mais de 20 dias de atraso são significativamente mais propensos a cancelar suas assinaturas.\n",
    "- Interações com o Call Center: Clientes que fizeram mais de 5 chamadas ao call center tendem a cancelar, sugerindo uma possível insatisfação com o atendimento ou com o serviço.\n",
    "- Idade: A taxa de cancelamento é mais alta entre clientes com idade acima de 50 anos.\n",
    "- Total gasto: Clientes que gastaram menos de R$ 500 também demonstram uma propensão maior ao cancelamento.\n",
    "\n",
    "Esses insights indicam os principais pontos de atenção para reduzir o cancelamento e reter clientes de forma mais eficiente."
   ]
  }
 ],
 "metadata": {
  "kernelspec": {
   "display_name": ".venv",
   "language": "python",
   "name": "python3"
  },
  "language_info": {
   "codemirror_mode": {
    "name": "ipython",
    "version": 3
   },
   "file_extension": ".py",
   "mimetype": "text/x-python",
   "name": "python",
   "nbconvert_exporter": "python",
   "pygments_lexer": "ipython3",
   "version": "3.13.3"
  }
 },
 "nbformat": 4,
 "nbformat_minor": 5
}
