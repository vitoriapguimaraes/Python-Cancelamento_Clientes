{
 "cells": [
  {
   "cell_type": "markdown",
   "id": "965c3948-749a-4846-9023-9fc43629e1ff",
   "metadata": {},
   "source": [
    "# Customer Churn Analysis and Reduction for Subscription Service\n",
    "\n",
    "A company with over 800,000 customers noticed that most of its customer base is inactive, meaning they have already canceled the service. To improve results, the company wants to understand the main reasons for these cancellations and the most effective actions to reduce this number."
   ]
  },
  {
   "cell_type": "markdown",
   "id": "bad35f6b-dd32-4aef-8eda-96d707663b0b",
   "metadata": {},
   "source": [
    "### Imports"
   ]
  },
  {
   "cell_type": "code",
   "execution_count": 1,
   "id": "48d045e1-3424-4fc6-a03d-3a506234924a",
   "metadata": {},
   "outputs": [],
   "source": [
    "import os\n",
    "import pandas as pd\n",
    "import plotly.express as px\n",
    "import plotly.io as pio"
   ]
  },
  {
   "cell_type": "code",
   "execution_count": null,
   "id": "07b73508-484a-4ba1-899d-541013923754",
   "metadata": {},
   "outputs": [],
   "source": [
    "def load_and_clean_data(dataset_path):\n",
    "    \"\"\"Load dataset and perform initial cleaning.\"\"\"\n",
    "    df = pd.read_csv(dataset_path)\n",
    "    df = df.drop(\"CustomerID\", axis=1)\n",
    "    print(\"Initial dataset loaded:\")\n",
    "    print(df)\n",
    "    print(\"\\nData info before cleaning:\")\n",
    "    print(df.info())\n",
    "    df = df.dropna()\n",
    "    print(\"\\nData info after removing missing values:\")\n",
    "    print(df.info())\n",
    "    return df"
   ]
  }
 ],
 "metadata": {
  "kernelspec": {
   "display_name": "Python 3 (ipykernel)",
   "language": "python",
   "name": "python3"
  },
  "language_info": {
   "codemirror_mode": {
    "name": "ipython",
    "version": 3
   },
   "file_extension": ".py",
   "mimetype": "text/x-python",
   "name": "python",
   "nbconvert_exporter": "python",
   "pygments_lexer": "ipython3",
   "version": "3.13.3"
  }
 },
 "nbformat": 4,
 "nbformat_minor": 5
}
